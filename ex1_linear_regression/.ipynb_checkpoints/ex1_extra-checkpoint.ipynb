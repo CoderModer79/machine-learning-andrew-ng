{
 "cells": [
  {
   "cell_type": "code",
   "execution_count": 1,
   "metadata": {
    "collapsed": true
   },
   "outputs": [],
   "source": [
    "from __future__ import division\n",
    "\n",
    "import scipy as sp\n",
    "import pylab as plt"
   ]
  },
  {
   "cell_type": "markdown",
   "metadata": {},
   "source": [
    "# 3 Linear regression with multiple variables"
   ]
  },
  {
   "cell_type": "code",
   "execution_count": 2,
   "metadata": {
    "collapsed": false
   },
   "outputs": [],
   "source": [
    "data = sp.loadtxt('ex1/ex1data2.txt', delimiter=',')"
   ]
  },
  {
   "cell_type": "code",
   "execution_count": 3,
   "metadata": {
    "collapsed": false
   },
   "outputs": [],
   "source": [
    "x0 = data[:, 0] \n",
    "x1 = data[:, 1] \n",
    "y = data[:, -1]\n",
    "m = len(y) "
   ]
  },
  {
   "cell_type": "markdown",
   "metadata": {},
   "source": [
    "## 3.0 Plotting the data."
   ]
  },
  {
   "cell_type": "code",
   "execution_count": 22,
   "metadata": {
    "collapsed": false
   },
   "outputs": [],
   "source": [
    "plt.figure()\n",
    "plt.plot(x0 / 1e3, y / 1e5, 'rx')\n",
    "plt.xlabel('Size of the house / 1,000 sq. ft.')\n",
    "plt.ylabel('Price / $100,000')\n",
    "#plt.xlim(4, 24)\n",
    "#plt.ylim(-5, 25)\n",
    "plt.savefig('ex1_extra_ipynb_img/data_0.jpg')\n",
    "plt.show()"
   ]
  },
  {
   "cell_type": "markdown",
   "metadata": {},
   "source": [
    "<img src=\"ex1_extra_ipynb_img/data_0.jpg\" width = 500px/>"
   ]
  },
  {
   "cell_type": "code",
   "execution_count": 23,
   "metadata": {
    "collapsed": false
   },
   "outputs": [],
   "source": [
    "plt.figure()\n",
    "plt.plot(x1, y / 1e5, 'rx')\n",
    "plt.xlabel('Number of bedrooms')\n",
    "plt.ylabel('Price / $100,000')\n",
    "plt.xlim(1.6, 4.4)\n",
    "plt.savefig('ex1_extra_ipynb_img/data_1.jpg')\n",
    "plt.show()"
   ]
  },
  {
   "cell_type": "markdown",
   "metadata": {},
   "source": [
    "<img src=\"ex1_extra_ipynb_img/data_1.jpg\" width = 500px/>"
   ]
  },
  {
   "cell_type": "markdown",
   "metadata": {},
   "source": [
    "## 3.1 Feature normalization"
   ]
  },
  {
   "cell_type": "code",
   "execution_count": 6,
   "metadata": {
    "collapsed": true
   },
   "outputs": [],
   "source": [
    "X = sp.concatenate((x0.reshape(1,-1), x1.reshape(1,-1))).T"
   ]
  },
  {
   "cell_type": "code",
   "execution_count": 7,
   "metadata": {
    "collapsed": false
   },
   "outputs": [],
   "source": [
    "means = sp.mean(X, 0)\n",
    "stds = sp.std(X, 0)"
   ]
  },
  {
   "cell_type": "code",
   "execution_count": 8,
   "metadata": {
    "collapsed": true
   },
   "outputs": [],
   "source": [
    "def feature_normalize(X):\n",
    "    X_p = sp.zeros_like(X)\n",
    "    for i, feature in enumerate(X.T):\n",
    "        feature = (feature - means[i]) / stds[i]\n",
    "        X_p[:, i] = feature\n",
    "    return X_p"
   ]
  },
  {
   "cell_type": "code",
   "execution_count": 9,
   "metadata": {
    "collapsed": true
   },
   "outputs": [],
   "source": [
    "X_p = feature_normalize(X)"
   ]
  },
  {
   "cell_type": "markdown",
   "metadata": {},
   "source": [
    "## 3.2 Gradient descent"
   ]
  },
  {
   "cell_type": "code",
   "execution_count": 10,
   "metadata": {
    "collapsed": false
   },
   "outputs": [],
   "source": [
    "X = sp.concatenate((sp.ones(m).reshape(-1,1), X_p), axis=1)"
   ]
  },
  {
   "cell_type": "code",
   "execution_count": 11,
   "metadata": {
    "collapsed": false
   },
   "outputs": [],
   "source": [
    "y = y.reshape(-1,1)"
   ]
  },
  {
   "cell_type": "code",
   "execution_count": 12,
   "metadata": {
    "collapsed": true
   },
   "outputs": [],
   "source": [
    "theta_0 = sp.zeros((3, 1))"
   ]
  },
  {
   "cell_type": "code",
   "execution_count": 13,
   "metadata": {
    "collapsed": false
   },
   "outputs": [
    {
     "name": "stdout",
     "output_type": "stream",
     "text": [
      "(47, 3)\n",
      "(3, 1)\n",
      "(47, 1)\n"
     ]
    }
   ],
   "source": [
    "print X.shape\n",
    "print theta_0.shape\n",
    "print y.shape"
   ]
  },
  {
   "cell_type": "code",
   "execution_count": 14,
   "metadata": {
    "collapsed": true
   },
   "outputs": [],
   "source": [
    "def compute_cost(theta):\n",
    "    return (1 / 2 / m) * sp.sum((X.dot(theta) - y)**2)"
   ]
  },
  {
   "cell_type": "code",
   "execution_count": 15,
   "metadata": {
    "collapsed": false,
    "scrolled": true
   },
   "outputs": [
    {
     "data": {
      "text/plain": [
       "65591548106.457443"
      ]
     },
     "execution_count": 15,
     "metadata": {},
     "output_type": "execute_result"
    }
   ],
   "source": [
    "compute_cost(theta_0)"
   ]
  },
  {
   "cell_type": "code",
   "execution_count": 16,
   "metadata": {
    "collapsed": true
   },
   "outputs": [],
   "source": [
    "num_iters = 100\n",
    "alpha = 0.1"
   ]
  },
  {
   "cell_type": "code",
   "execution_count": 17,
   "metadata": {
    "collapsed": true
   },
   "outputs": [],
   "source": [
    "def gradient_descent(X, y, theta, alpha, num_iters):\n",
    "    J_history = sp.zeros(num_iters)\n",
    "    for i in xrange(num_iters):\n",
    "        J_history[i] = compute_cost(theta)\n",
    "        theta -= alpha / m * (X.dot(theta) - y).T.dot(X).T\n",
    "    return theta, J_history"
   ]
  },
  {
   "cell_type": "code",
   "execution_count": 18,
   "metadata": {
    "collapsed": false,
    "scrolled": true
   },
   "outputs": [],
   "source": [
    "theta, J_history = gradient_descent(X, y, theta_0, alpha, num_iters)"
   ]
  },
  {
   "cell_type": "code",
   "execution_count": 19,
   "metadata": {
    "collapsed": false
   },
   "outputs": [
    {
     "name": "stdout",
     "output_type": "stream",
     "text": [
      "2043480043.29\n",
      "[ 340403.61773803  108803.37852266   -5933.9413402 ]\n"
     ]
    }
   ],
   "source": [
    "print J_history[-1]\n",
    "print theta.T[0]"
   ]
  },
  {
   "cell_type": "code",
   "execution_count": 21,
   "metadata": {
    "collapsed": true
   },
   "outputs": [],
   "source": [
    "plt.figure()\n",
    "plt.plot(J_history, 'ko')\n",
    "plt.xlabel('Steps')\n",
    "plt.ylabel('Cost')\n",
    "plt.xlim(-num_iters * 0.05, num_iters * 1.05)\n",
    "plt.ylim(0, max(J_history) * 1.05)\n",
    "plt.savefig('ex1_extra_ipynb_img/cost_vs_step.jpg')\n",
    "plt.show()"
   ]
  },
  {
   "cell_type": "markdown",
   "metadata": {},
   "source": [
    "<img src=\"ex1_extra_ipynb_img/cost_vs_step.jpg\" width = 500px/> <center> Similar to Fig. 4.</center>"
   ]
  },
  {
   "cell_type": "code",
   "execution_count": 24,
   "metadata": {
    "collapsed": true
   },
   "outputs": [],
   "source": [
    "def prediction(x0, x1, means, stds, theta):\n",
    "    return theta[0] + (x0 - means[0]) / stds[0] * theta[1] + (x1 - means[1]) / stds[1] * theta[2]"
   ]
  },
  {
   "cell_type": "code",
   "execution_count": 25,
   "metadata": {
    "collapsed": false
   },
   "outputs": [],
   "source": [
    "plt.figure()\n",
    "plt.plot(x0 / 1e3, y / 1e5, 'rx')\n",
    "plt.plot(x0 / 1e3, prediction(x0, x1, means, stds, theta) / 1e5, 'bo', label='Linear regression')\n",
    "plt.xlabel('Size of the house / 1,000 sq. ft.')\n",
    "plt.ylabel('Price / $100,000')\n",
    "plt.savefig('ex1_extra_ipynb_img/data_0_fit.jpg')\n",
    "plt.show()"
   ]
  },
  {
   "cell_type": "markdown",
   "metadata": {},
   "source": [
    "<img src=\"ex1_extra_ipynb_img/data_0_fit.jpg\" width = 500px/> "
   ]
  },
  {
   "cell_type": "code",
   "execution_count": 26,
   "metadata": {
    "collapsed": false
   },
   "outputs": [],
   "source": [
    "plt.figure()\n",
    "plt.plot(x1, y / 1e5, 'rx', label = 'Training data')\n",
    "plt.plot(x1, prediction(x0, x1, means, stds, theta) / 1e5, 'bo', label='Linear regression')\n",
    "plt.plot(x1, y / 1e5, 'rx')\n",
    "plt.xlabel('Number of bedrooms')\n",
    "plt.ylabel('Price / $100,000')\n",
    "plt.xlim(1.6, 4.4)\n",
    "plt.legend(numpoints = 1, loc = 0)\n",
    "plt.savefig('ex1_extra_ipynb_img/data_1_fit.jpg')\n",
    "plt.show()"
   ]
  },
  {
   "cell_type": "markdown",
   "metadata": {},
   "source": [
    "<img src=\"ex1_extra_ipynb_img/data_1_fit.jpg\" width = 500px/> "
   ]
  },
  {
   "cell_type": "markdown",
   "metadata": {},
   "source": [
    "## 3.3 Normal equations"
   ]
  },
  {
   "cell_type": "code",
   "execution_count": 27,
   "metadata": {
    "collapsed": true
   },
   "outputs": [],
   "source": [
    "from scipy import linalg "
   ]
  },
  {
   "cell_type": "code",
   "execution_count": 28,
   "metadata": {
    "collapsed": false
   },
   "outputs": [],
   "source": [
    "theta_p = linalg.inv(X.T.dot(X)).dot(X.T).dot(y)"
   ]
  },
  {
   "cell_type": "code",
   "execution_count": 29,
   "metadata": {
    "collapsed": false
   },
   "outputs": [
    {
     "name": "stdout",
     "output_type": "stream",
     "text": [
      "[[ 340403.61773803  108803.37852266   -5933.9413402 ]]\n",
      "[[ 340412.65957447  109447.79646964   -6578.35485416]]\n",
      "[[ -2.65613989e-05  -5.88790243e-03  -9.79596766e-02]]\n"
     ]
    }
   ],
   "source": [
    "print theta.T\n",
    "print theta_p.T\n",
    "print (theta.T - theta_p.T) / theta_p.T"
   ]
  }
 ],
 "metadata": {
  "kernelspec": {
   "display_name": "Python 2",
   "language": "python",
   "name": "python2"
  },
  "language_info": {
   "codemirror_mode": {
    "name": "ipython",
    "version": 2
   },
   "file_extension": ".py",
   "mimetype": "text/x-python",
   "name": "python",
   "nbconvert_exporter": "python",
   "pygments_lexer": "ipython2",
   "version": "2.7.6"
  }
 },
 "nbformat": 4,
 "nbformat_minor": 0
}
